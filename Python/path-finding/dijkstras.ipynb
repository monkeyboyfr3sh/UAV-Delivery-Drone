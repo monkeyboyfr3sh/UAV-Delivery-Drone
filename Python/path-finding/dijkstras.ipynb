{
 "cells": [
  {
   "cell_type": "code",
   "execution_count": 16,
   "metadata": {},
   "outputs": [],
   "source": [
    "import sys\n",
    " \n",
    "class Graph(object):\n",
    "    def __init__(self, nodes, init_graph):\n",
    "        self.nodes = nodes\n",
    "        self.graph = self.construct_graph(nodes, init_graph)\n",
    "        \n",
    "    def construct_graph(self, nodes, init_graph):\n",
    "        '''\n",
    "        This method makes sure that the graph is symmetrical. In other words, if there's a path from node A to B with a value V, there needs to be a path from node B to node A with a value V.\n",
    "        '''\n",
    "        graph = {}\n",
    "        for node in nodes:\n",
    "            graph[node] = {}\n",
    "        \n",
    "        graph.update(init_graph)\n",
    "        \n",
    "        for node, edges in graph.items():\n",
    "            for adjacent_node, value in edges.items():\n",
    "                if graph[adjacent_node].get(node, False) == False:\n",
    "                    graph[adjacent_node][node] = value\n",
    "                    \n",
    "        return graph\n",
    "    \n",
    "    def get_nodes(self):\n",
    "        \"Returns the nodes of the graph.\"\n",
    "        return self.nodes\n",
    "    \n",
    "    def get_outgoing_edges(self, node):\n",
    "        \"Returns the neighbors of a node.\"\n",
    "        connections = []\n",
    "        for out_node in self.nodes:\n",
    "            if self.graph[node].get(out_node, False) != False:\n",
    "                connections.append(out_node)\n",
    "        return connections\n",
    "    \n",
    "    def value(self, node1, node2):\n",
    "        \"Returns the value of an edge between two nodes.\"\n",
    "        return self.graph[node1][node2]"
   ]
  },
  {
   "cell_type": "code",
   "execution_count": 2,
   "metadata": {},
   "outputs": [],
   "source": [
    "def dijkstra_algorithm(graph, start_node):\n",
    "    unvisited_nodes = list(graph.get_nodes())\n",
    " \n",
    "    # We'll use this dict to save the cost of visiting each node and update it as we move along the graph   \n",
    "    shortest_path = {}\n",
    " \n",
    "    # We'll use this dict to save the shortest known path to a node found so far\n",
    "    previous_nodes = {}\n",
    " \n",
    "    # We'll use max_value to initialize the \"infinity\" value of the unvisited nodes   \n",
    "    max_value = sys.maxsize\n",
    "    for node in unvisited_nodes:\n",
    "        shortest_path[node] = max_value\n",
    "    # However, we initialize the starting node's value with 0   \n",
    "    shortest_path[start_node] = 0\n",
    "    \n",
    "    # The algorithm executes until we visit all nodes\n",
    "    while unvisited_nodes:\n",
    "        # The code block below finds the node with the lowest score\n",
    "        current_min_node = None\n",
    "        for node in unvisited_nodes: # Iterate over the nodes\n",
    "            if current_min_node == None:\n",
    "                current_min_node = node\n",
    "            elif shortest_path[node] < shortest_path[current_min_node]:\n",
    "                current_min_node = node\n",
    "                \n",
    "        # The code block below retrieves the current node's neighbors and updates their distances\n",
    "        neighbors = graph.get_outgoing_edges(current_min_node)\n",
    "        for neighbor in neighbors:\n",
    "            tentative_value = shortest_path[current_min_node] + graph.value(current_min_node, neighbor)\n",
    "            if tentative_value < shortest_path[neighbor]:\n",
    "                shortest_path[neighbor] = tentative_value\n",
    "                # We also update the best path to the current node\n",
    "                previous_nodes[neighbor] = current_min_node\n",
    " \n",
    "        # After visiting its neighbors, we mark the node as \"visited\"\n",
    "        unvisited_nodes.remove(current_min_node)\n",
    "    \n",
    "    return previous_nodes, shortest_path"
   ]
  },
  {
   "cell_type": "code",
   "execution_count": 3,
   "metadata": {},
   "outputs": [],
   "source": [
    "def print_result(previous_nodes, shortest_path, start_node, target_node):\n",
    "    path = []\n",
    "    node = target_node\n",
    "    \n",
    "    while node != start_node:\n",
    "        path.append(node)\n",
    "        node = previous_nodes[node]\n",
    " \n",
    "    # Add the start node manually\n",
    "    path.append(start_node)\n",
    "    \n",
    "    print(\"We found the following best path with a value of {}.\".format(shortest_path[target_node]))\n",
    "    print(\" -> \".join(reversed(path)))"
   ]
  },
  {
   "cell_type": "code",
   "execution_count": 12,
   "metadata": {},
   "outputs": [],
   "source": [
    "nodes = [\"Reykjavik\", \"Oslo\", \"Moscow\", \"London\", \"Rome\", \"Berlin\", \"Belgrade\", \"Athens\"]\n",
    "\n",
    "init_graph = {}\n",
    "for node in nodes:\n",
    "    init_graph[node] = {}\n",
    "\n",
    "init_graph[\"Reykjavik\"][\"Oslo\"] = 5\n",
    "init_graph[\"Reykjavik\"][\"London\"] = 4\n",
    "init_graph[\"Oslo\"][\"Berlin\"] = 1\n",
    "init_graph[\"Oslo\"][\"Moscow\"] = 3\n",
    "init_graph[\"Moscow\"][\"Belgrade\"] = 5\n",
    "init_graph[\"Moscow\"][\"Athens\"] = 4\n",
    "init_graph[\"Athens\"][\"Belgrade\"] = 1\n",
    "init_graph[\"Rome\"][\"Berlin\"] = 2\n",
    "init_graph[\"Rome\"][\"Athens\"] = 2\n",
    "\n",
    "graph = Graph(nodes, init_graph)"
   ]
  },
  {
   "cell_type": "code",
   "execution_count": 13,
   "metadata": {},
   "outputs": [],
   "source": [
    "\t\n",
    "previous_nodes, shortest_path = dijkstra_algorithm(graph=graph, start_node=\"Reykjavik\")"
   ]
  },
  {
   "cell_type": "code",
   "execution_count": 14,
   "metadata": {},
   "outputs": [
    {
     "name": "stdout",
     "output_type": "stream",
     "text": [
      "We found the following best path with a value of 11.\n",
      "Reykjavik -> Oslo -> Berlin -> Rome -> Athens -> Belgrade\n"
     ]
    }
   ],
   "source": [
    "print_result(previous_nodes, shortest_path, start_node=\"Reykjavik\", target_node=\"Belgrade\")"
   ]
  },
  {
   "cell_type": "code",
   "execution_count": 25,
   "metadata": {},
   "outputs": [
    {
     "name": "stdout",
     "output_type": "stream",
     "text": [
      "Node Reykjavik: {'Oslo': 5, 'London': 4}\n",
      "Node Oslo: {'Berlin': 1, 'Moscow': 3, 'Reykjavik': 5}\n",
      "Node Moscow: {'Belgrade': 5, 'Athens': 4, 'Oslo': 3}\n",
      "Node London: {'Reykjavik': 4}\n",
      "Node Rome: {'Berlin': 2, 'Athens': 2}\n",
      "Node Berlin: {'Oslo': 1, 'Rome': 2}\n",
      "Node Belgrade: {'Moscow': 5, 'Athens': 1}\n",
      "Node Athens: {'Belgrade': 1, 'Moscow': 4, 'Rome': 2}\n"
     ]
    }
   ],
   "source": [
    "for node in nodes:\n",
    "    print(\"Node {}: {}\".format( node, graph.graph[node] ) )"
   ]
  },
  {
   "cell_type": "code",
   "execution_count": null,
   "metadata": {},
   "outputs": [],
   "source": []
  }
 ],
 "metadata": {
  "kernelspec": {
   "display_name": "Python 3.9.12 ('machine_learning')",
   "language": "python",
   "name": "python3"
  },
  "language_info": {
   "codemirror_mode": {
    "name": "ipython",
    "version": 3
   },
   "file_extension": ".py",
   "mimetype": "text/x-python",
   "name": "python",
   "nbconvert_exporter": "python",
   "pygments_lexer": "ipython3",
   "version": "3.9.12"
  },
  "orig_nbformat": 4,
  "vscode": {
   "interpreter": {
    "hash": "674291698da69398d09eaaff8f2d16745172857c9fb6a1cd3dbf75eeb9b95a3a"
   }
  }
 },
 "nbformat": 4,
 "nbformat_minor": 2
}
